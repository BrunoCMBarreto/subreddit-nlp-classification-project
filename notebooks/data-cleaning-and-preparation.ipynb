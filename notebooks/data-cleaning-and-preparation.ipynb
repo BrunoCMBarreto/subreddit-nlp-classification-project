{
 "cells": [
  {
   "cell_type": "markdown",
   "id": "e6bad3c9",
   "metadata": {},
   "source": [
    "# Subreddit NLP Classification - Data Cleaning"
   ]
  },
  {
   "cell_type": "markdown",
   "id": "64133e20",
   "metadata": {},
   "source": [
    "On the social media platform Reddit, you can find countless highly active communities dedicated to discussing any topic you can imagine. The startling number of Reddit's individual communities, known as subreddits, means that topics as broad as literature or as narrow as a single video game can often be counted on to have their own page filled with the writings of dedicated redditors. As a result of this, however, Reddit also has many communities whose topics of discussion overlap with those of another.\n",
    "\n",
    "One such pair of communities are the subreddits r/playstation and r/xbox. Both communities focus on discussing video games, with a significant overlap in discussion topics due to their tendency to discuss high-profile events in the gaming world. Despite this seeming overlap, both communities have a history of competition and petty disagreement with one another. As a result, their members have often argued that a clear distinction exists between them in what they choose to discuss, beyond their surface-level preferences for different consoles.\n",
    "\n",
    "Recently, a small subset of both communities have attempted to introduce close friends and family to their personal favorite subreddits over thanksgiving, only to be met with confusion as they struggle to convince them that these communities differ in any way other than which gaming console their users own. Hoping to better explain the divide between each subreddit, wealthy individuals from each group have hired a data scientist to obtain some kind of objective proof of these percieved differences.\n",
    "\n",
    "As the data scientist entrusted with this task, the goal of this project is to provide proof to the users of the subreddits r/playstation and r/xbox of whether or not their communities' topics of discussion differ in any way other than in their choice of console. This will be acomplished by using natural language processing (or NLP) to train a machine learning model that can distinguish between posts from r/playstation and posts from r/xbox. The words determined to be most important to the most accurate model will be used to infer the topics of discussion that differentiate both communities."
   ]
  },
  {
   "cell_type": "code",
   "execution_count": 286,
   "id": "a63f568d",
   "metadata": {},
   "outputs": [],
   "source": [
    "import pandas as pd\n",
    "import matplotlib.pyplot as plt\n",
    "\n",
    "from sklearn.model_selection import train_test_split\n",
    "from sklearn.feature_extraction.text import CountVectorizer, TfidfVectorizer\n",
    "\n",
    "import spacy"
   ]
  },
  {
   "cell_type": "code",
   "execution_count": 287,
   "id": "3ac87ea3",
   "metadata": {},
   "outputs": [],
   "source": [
    "# Importing datasets\n",
    "xbox_df = pd.read_csv('../datasets/xbox.csv')\n",
    "ps_df = pd.read_csv('../datasets/playstation.csv')"
   ]
  },
  {
   "cell_type": "code",
   "execution_count": 288,
   "id": "6eb72ca0",
   "metadata": {},
   "outputs": [],
   "source": [
    "# Combining reddit datasets\n",
    "reddit_df = pd.concat([xbox_df,ps_df])"
   ]
  },
  {
   "cell_type": "markdown",
   "id": "671f7694",
   "metadata": {},
   "source": [
    "## Data Cleaning and EDA"
   ]
  },
  {
   "cell_type": "markdown",
   "id": "22d5a8fa",
   "metadata": {},
   "source": [
    "Before we can begin training a model to identify the elements that distinguish the two subreddits, we must first ensure that the data used to train it is in good condition. The dataset in question is a collection of approximately 10,000 posts scraped from each subreddit for a total of 20,000 posts. Raw data obtained through scraping or APIs is rarely in good condition when first recieved, so it must first be cleaned.\n",
    "\n",
    "To do so, we must inspect the dataset and ensure that it is free of any unexpected data types, missing values, or erroneous entries that could prevent a model from being trained on it."
   ]
  },
  {
   "cell_type": "markdown",
   "id": "32d0e531",
   "metadata": {},
   "source": [
    "### Cleaning Data Types and Missing Data"
   ]
  },
  {
   "cell_type": "markdown",
   "id": "64010a56",
   "metadata": {},
   "source": [
    "To begin with, we should inspect the data types contained within each column of our reddit dataset and make sure that they are as expected, with numeric data being represented numerically and with strings of text being represented as strings."
   ]
  },
  {
   "cell_type": "code",
   "execution_count": 289,
   "id": "0b9f99f5",
   "metadata": {},
   "outputs": [
    {
     "data": {
      "text/plain": [
       "subreddit                        {<class 'str'>}\n",
       "id                               {<class 'str'>}\n",
       "author                           {<class 'str'>}\n",
       "num_comments                     {<class 'int'>}\n",
       "selftext        {<class 'str'>, <class 'float'>}\n",
       "title                            {<class 'str'>}\n",
       "upvote_ratio                   {<class 'float'>}\n",
       "url                              {<class 'str'>}\n",
       "dtype: object"
      ]
     },
     "execution_count": 289,
     "metadata": {},
     "output_type": "execute_result"
    }
   ],
   "source": [
    "# Inspecting data types for anomalies\n",
    "reddit_df.applymap(type).apply(set)"
   ]
  },
  {
   "cell_type": "markdown",
   "id": "ffef2b09",
   "metadata": {},
   "source": [
    "Looking at these data types, we can see that there are numeric floats contained within the `selftext` column. Since this column is meant to only contain strings of text, we can infer that these columns contain either numbers or missing values.\n",
    "\n",
    "To narrow down our search, we can check each column of our data for missing values, represented as `NaN`s."
   ]
  },
  {
   "cell_type": "code",
   "execution_count": 290,
   "id": "9aae9cb5",
   "metadata": {},
   "outputs": [
    {
     "data": {
      "text/plain": [
       "subreddit         0\n",
       "id                0\n",
       "author            0\n",
       "num_comments      0\n",
       "selftext        971\n",
       "title             0\n",
       "upvote_ratio      0\n",
       "url               0\n",
       "dtype: int64"
      ]
     },
     "execution_count": 290,
     "metadata": {},
     "output_type": "execute_result"
    }
   ],
   "source": [
    "# Inspecting missing values in the dataset\n",
    "reddit_df.isna().sum()"
   ]
  },
  {
   "cell_type": "markdown",
   "id": "5b0296a2",
   "metadata": {},
   "source": [
    "Here, we can see the `selftext` column does in fact have `NaN` values. Before deciding what to do with these columns, we must decide which columns are relevant to our modelling goals and which can be safely ignored. In order to build our NLP classifier model, we need the text data contained in each reddit post. Since it contains the body of each post that we want to train our final model on, the `selftext` column _does_ need to be cleaned of `NaN`s.\n",
    "\n",
    "Entries in our dataset that have a title but no selftext correspond to posts that contain only images. Since this data makes up less than 5% of the dataset and contains little to no substantive text, we can afford to simply drop any entries with missing `selftext` values without significantly misrepresenting our data sources."
   ]
  },
  {
   "cell_type": "code",
   "execution_count": 291,
   "id": "fed363b6",
   "metadata": {},
   "outputs": [],
   "source": [
    "# Removing posts with missing selftext\n",
    "reddit_df = reddit_df[reddit_df.selftext.notna()]\n",
    "# Less than 5% of data lost through this process"
   ]
  },
  {
   "cell_type": "markdown",
   "id": "f9342b16",
   "metadata": {},
   "source": [
    "### Inspecting Distributions"
   ]
  },
  {
   "cell_type": "markdown",
   "id": "e91e981e",
   "metadata": {},
   "source": [
    "Now that our model has been cleaned of missing values and image-based posts, we must inspect it to make sure that none of the entries within are outliers that could mislead our final model with text data that is not representative of either subreddit's typical discussions.\n",
    "\n",
    "In order to do this, we can inspect the distribution of the data that we have about each post and see if it differs greatly from what would be expected. Within our dataset, we have data on the number of comments and the ratio of upvotes to downvotes for each post which we can see displayed in the two cells below."
   ]
  },
  {
   "cell_type": "code",
   "execution_count": 292,
   "id": "d40a3305",
   "metadata": {},
   "outputs": [
    {
     "data": {
      "image/png": "[encoded data removed]",
      "text/plain": [
       "<Figure size 640x480 with 2 Axes>"
      ]
     },
     "metadata": {},
     "output_type": "display_data"
    }
   ],
   "source": [
    "# Plotting the distribution of post metadata such as score,\n",
    "# comment count, and upvote ratio\n",
    "axes = reddit_df.hist(bins=30);\n",
    "axes.flatten()[0].set_xlabel('Number of Comments');\n",
    "axes.flatten()[0].set_ylabel('Number of Posts');\n",
    "axes.flatten()[0].set_title('Distribution of Comments');\n",
    "axes.flatten()[1].set_xlabel('Upvote Ratio');\n",
    "axes.flatten()[1].set_title('Distribution of Upvotes');\n",
    "plt.suptitle('Distribution of Reddit Post Metadata');"
   ]
  },
  {
   "cell_type": "code",
   "execution_count": 293,
   "id": "225c22de",
   "metadata": {},
   "outputs": [
    {
     "data": {
      "text/html": [
       "<div>\n",
       "<style scoped>\n",
       "    .dataframe tbody tr th:only-of-type {\n",
       "        vertical-align: middle;\n",
       "    }\n",
       "\n",
       "    .dataframe tbody tr th {\n",
       "        vertical-align: top;\n",
       "    }\n",
       "\n",
       "    .dataframe thead th {\n",
       "        text-align: right;\n",
       "    }\n",
       "</style>\n",
       "<table border=\"1\" class=\"dataframe\">\n",
       "  <thead>\n",
       "    <tr style=\"text-align: right;\">\n",
       "      <th></th>\n",
       "      <th>num_comments</th>\n",
       "      <th>upvote_ratio</th>\n",
       "    </tr>\n",
       "  </thead>\n",
       "  <tbody>\n",
       "    <tr>\n",
       "      <th>count</th>\n",
       "      <td>19055.000000</td>\n",
       "      <td>19055.000000</td>\n",
       "    </tr>\n",
       "    <tr>\n",
       "      <th>mean</th>\n",
       "      <td>5.775912</td>\n",
       "      <td>0.965486</td>\n",
       "    </tr>\n",
       "    <tr>\n",
       "      <th>std</th>\n",
       "      <td>9.361384</td>\n",
       "      <td>0.127805</td>\n",
       "    </tr>\n",
       "    <tr>\n",
       "      <th>min</th>\n",
       "      <td>0.000000</td>\n",
       "      <td>0.100000</td>\n",
       "    </tr>\n",
       "    <tr>\n",
       "      <th>25%</th>\n",
       "      <td>1.000000</td>\n",
       "      <td>1.000000</td>\n",
       "    </tr>\n",
       "    <tr>\n",
       "      <th>50%</th>\n",
       "      <td>4.000000</td>\n",
       "      <td>1.000000</td>\n",
       "    </tr>\n",
       "    <tr>\n",
       "      <th>75%</th>\n",
       "      <td>7.000000</td>\n",
       "      <td>1.000000</td>\n",
       "    </tr>\n",
       "    <tr>\n",
       "      <th>max</th>\n",
       "      <td>328.000000</td>\n",
       "      <td>1.000000</td>\n",
       "    </tr>\n",
       "  </tbody>\n",
       "</table>\n",
       "</div>"
      ],
      "text/plain": [
       "       num_comments  upvote_ratio\n",
       "count  19055.000000  19055.000000\n",
       "mean       5.775912      0.965486\n",
       "std        9.361384      0.127805\n",
       "min        0.000000      0.100000\n",
       "25%        1.000000      1.000000\n",
       "50%        4.000000      1.000000\n",
       "75%        7.000000      1.000000\n",
       "max      328.000000      1.000000"
      ]
     },
     "execution_count": 293,
     "metadata": {},
     "output_type": "execute_result"
    }
   ],
   "source": [
    "# Displaying more exact summary statistics\n",
    "reddit_df_summary = reddit_df.describe()\n",
    "reddit_df_summary"
   ]
  },
  {
   "cell_type": "markdown",
   "id": "aaa8aafd",
   "metadata": {},
   "source": [
    "Looking first at the distribution of comments, we see that the shape of the distribution is as we would expect. Due to the ranking system used by reddit to prioritize certain posts for display, the vast majority of posts have little to no comments unless they are both popular and promoted by reddit's algorithm. For this reason, an exponential distribution like the one shown here is to be expected. However, the upper bounds of the distribution are suspiciously high, with one post having recieved over 50 times the average number of comments. While this is not unreasonable for reddit, it is high enough to be worth inspecting directly.\n",
    "\n",
    "To do this, we can look at the five most-commented-on posts in the cell below."
   ]
  },
  {
   "cell_type": "code",
   "execution_count": 294,
   "id": "8c555e90",
   "metadata": {},
   "outputs": [
    {
     "data": {
      "text/plain": [
       "5604                       https://www.reddit.com/r/playstation/comments/ieale9/50_ps_gift_card_give_away/\n",
       "6654          https://www.reddit.com/r/playstation/comments/i4zxcj/we_gonna_be_honest_about_state_of_play/\n",
       "463           https://www.reddit.com/r/playstation/comments/jb19bb/breaking_down_the_party_safety_changes/\n",
       "2300                                      https://www.reddit.com/r/playstation/comments/iyq6a6/psn_status/\n",
       "455     https://www.reddit.com/r/playstation/comments/jb1tn2/petition_for_this_update_to_be_reversed_asap/\n",
       "Name: url, dtype: object"
      ]
     },
     "execution_count": 294,
     "metadata": {},
     "output_type": "execute_result"
    }
   ],
   "source": [
    "# Displaying links to the posts with the highest comment counts\n",
    "pd.set_option('display.max_colwidth', 100)\n",
    "reddit_df.sort_values('num_comments', ascending=False).url.head(5)"
   ]
  },
  {
   "cell_type": "markdown",
   "id": "197c47c3",
   "metadata": {},
   "source": [
    "Looking at the above posts, we can see that the post with the most comments recieved so many because it was a giveaway offering a free gift card to a random commentor. By contrast, the next four most commented-on posts were addressing an issue with the software of the playstation and therefore attracted a significant amount of debate and several complaints.\n",
    "\n",
    "Compared to the other posts that can be found on r/playstation, the giveaway post stands out as an outlier in terms of its text as well as its subject. Including this post in our training data would likely mislead our final model due to the data not being representative of the communities it is attempting to distinguish between. For that reason, it would benefit our model if it were removed from the dataset."
   ]
  },
  {
   "cell_type": "code",
   "execution_count": 295,
   "id": "05f836ff",
   "metadata": {},
   "outputs": [],
   "source": [
    "# Dropping outlier post\n",
    "reddit_df = reddit_df.drop(5604)"
   ]
  },
  {
   "cell_type": "markdown",
   "id": "6bcd6fe9",
   "metadata": {},
   "source": [
    "With outliers in comments addressed, we can continue our analysis by looking at upvotes. Like with comments, the distribution of upvotes within the subreddit is as we would expect. When faced with a post they dislike, most redditors will choose to simply not interact with it rather than give it a downvote. Since many individuals will only downvote a post they feel strongly about, we would expect the vast majority of posts to have an upvote-to-downvote proportion of 1. \n",
    "\n",
    "However, some posts on the subreddit score exceptionally poorly, being more than five standard deviations below the mean of upvotes. With such suspiciously low scores, it is possible that these posts could be off-topic or bot posts that would mislead our model. For this reason, it is worth inspecting these posts, given in the cell below."
   ]
  },
  {
   "cell_type": "code",
   "execution_count": 296,
   "id": "950a936d",
   "metadata": {},
   "outputs": [
    {
     "data": {
      "text/plain": [
       "3209    https://www.reddit.com/r/xbox/comments/iskbpn/xbox_one_x_titles_will_not_run_on_the_series_s/\n",
       "9710     https://www.reddit.com/r/playstation/comments/hhj4qd/witch_mothergucker_made_psplus_a_thing/\n",
       "7388    https://www.reddit.com/r/xbox/comments/hr7vk8/why_do_i_have_to_insert_game_disc_every_time_i/\n",
       "7889      https://www.reddit.com/r/xbox/comments/hl7lih/will_xbox_stop_being_political_any_time_soon/\n",
       "7758                    https://www.reddit.com/r/playstation/comments/hxcoi0/avowedanything_bethesda/\n",
       "Name: url, dtype: object"
      ]
     },
     "execution_count": 296,
     "metadata": {},
     "output_type": "execute_result"
    }
   ],
   "source": [
    "# Displaying links to the posts with the lowest upvote ratios\n",
    "pd.set_option('display.max_colwidth', 100)\n",
    "reddit_df.sort_values('upvote_ratio', ascending=True).url.head(5)"
   ]
  },
  {
   "cell_type": "markdown",
   "id": "01c04382",
   "metadata": {},
   "source": [
    "While these posts are peculiar, we can see that the majority of them are on-topic, human-made posts. It appears that these posts have been downvoted not for irrelevancy but for being unpopular and/or confrontational. Given that unpopular posts are a relevant part of each community's overall discussions, we want our model to be able to train on them. Thus, there is no reason to remove them from our dataset."
   ]
  },
  {
   "cell_type": "markdown",
   "id": "735d41e2",
   "metadata": {},
   "source": [
    "Finally, we must inspect the distribution of data between our two subreddits of interest. When training a classifier model to be able to distinguish between two groups, it is important to make sure that one group does not have significantly more entries in your dataset than another. Groups that are highly underrepresented in training datasets are often not properly learned by models, resulting in biased classifiers that can accurately predict groups that were prevalent in the dataset but that struggle when given examples from groups that were not.\n",
    "\n",
    "To ensure that this does not happen to our subreddit model, we can inspect the number of posts from each subreddit in our dataset."
   ]
  },
  {
   "cell_type": "code",
   "execution_count": 297,
   "id": "0a0ccb48",
   "metadata": {},
   "outputs": [
    {
     "data": {
      "image/png": "[encoded data removed]",
      "text/plain": [
       "<Figure size 640x480 with 1 Axes>"
      ]
     },
     "metadata": {},
     "output_type": "display_data"
    }
   ],
   "source": [
    "# Plotting the proportion of posts from each subreddit\n",
    "reddit_df['subreddit'].value_counts().plot(kind='bar', rot=0);\n",
    "plt.title('Distribution of Posts in Dataset Between Subreddits');\n",
    "plt.xlabel('Subreddit');\n",
    "plt.ylabel('Number of Posts');"
   ]
  },
  {
   "cell_type": "markdown",
   "id": "40d646ad",
   "metadata": {},
   "source": [
    "In this plot, we can see that our cleaned dataset has a nearly identical number of posts from both subreddits. Since there is no large difference in data for each subreddit, there is no need to trim or pad the dataset to reduce model errors."
   ]
  },
  {
   "cell_type": "markdown",
   "id": "7264adc1",
   "metadata": {},
   "source": [
    "## Data Preparation"
   ]
  },
  {
   "cell_type": "markdown",
   "id": "ef50eeb8",
   "metadata": {},
   "source": [
    "### Combining Text Data"
   ]
  },
  {
   "cell_type": "markdown",
   "id": "495cae31",
   "metadata": {},
   "source": [
    "With our dataset now cleaned of `NaN`s and outliers, we can perform an additional step to increase the amount of text data available for our future model training. Since both the `title` and `selftext` columns contain meaningful text data from each subreddit that can help train our model, we can combine them into a single column containing the text from both in order to consolidate our training data."
   ]
  },
  {
   "cell_type": "code",
   "execution_count": 298,
   "id": "b968e06c",
   "metadata": {},
   "outputs": [],
   "source": [
    "# Combining title and selftest columns\n",
    "reddit_df['text'] = reddit_df.title + \" \" + reddit_df.selftext"
   ]
  },
  {
   "cell_type": "markdown",
   "id": "ad299a49",
   "metadata": {},
   "source": [
    "### Splitting the Dataset"
   ]
  },
  {
   "cell_type": "markdown",
   "id": "73858911",
   "metadata": {},
   "source": [
    "Now that our data has been cleaned and consolidated, we can begin preparing the data for use in model training by converting it into the format expected by our future classifier model.\n",
    "\n",
    "We will begin by splitting our data into training, testing, feature, and target sets"
   ]
  },
  {
   "cell_type": "code",
   "execution_count": 299,
   "id": "5712b29d",
   "metadata": {},
   "outputs": [],
   "source": [
    "# Splitting data into train and test sets as well as feature and target sets \n",
    "X_train, X_test, y_train, y_test = train_test_split(reddit_df[['text']], reddit_df[['subreddit']])"
   ]
  },
  {
   "cell_type": "markdown",
   "id": "c63083a4",
   "metadata": {},
   "source": [
    "### Text Trimming"
   ]
  },
  {
   "cell_type": "markdown",
   "id": "e941740e",
   "metadata": {},
   "source": [
    "In order to train our subreddit classifier, our data needs to be simplified and trimmed of any words that aren't useful for our training. Human-made writing often includes many words and characters that contain little meaning in and of themselves and serve only to maintain the grammar and syntax of the sentence. Our subreddit classifier will not see any meaningful connection between these words and the subreddits they were written in. Therefore, they have the potential to negatively impact our model's predictions.\n",
    "\n",
    "In order to combat this, we can attempt to remove conjugation, punctuation and meaningless words, also known as stop words. To accomplish this, we will convert the subreddit posts in our dataset into collections of token objects that contain the meaning of each word in the original post."
   ]
  },
  {
   "cell_type": "code",
   "execution_count": 300,
   "id": "fb325fcc",
   "metadata": {},
   "outputs": [],
   "source": [
    "# Converting text data to SpaCy doc objects\n",
    "# Note: This step is time consuming\n",
    "nlp = spacy.load('en_core_web_md')\n",
    "# nlp.add_pipe(\"merge_noun_chunks\")\n",
    "X_train_nlp = X_train.applymap(nlp)\n",
    "X_test_nlp = X_test.applymap(nlp)"
   ]
  },
  {
   "cell_type": "markdown",
   "id": "7d994fa9",
   "metadata": {},
   "source": [
    "Now that we have converted our posts into collections of tokens, we can perform a series of steps to remove clutter from the text. First, we can selectively remove word and character tokens that will not help us predict the subreddit they came from. Once this is done, we will be left with only words that have meaning in and of themselves.\n",
    "\n",
    "However, we will still have various different versions of each word, altered to suit the grammar of the sentence they were in. For the purposes of our model the words 'play', 'playing', and 'played' all hold the same meaning. To ensure that the model views these words as the same, we can either remove all suffixes attached to words (a process known as stemming) or attempt to convert them into the base form of the word (a process known as lemmatization).\n",
    "\n",
    "Since our model is ultimately meant to tell both us and the users of reddit what topics can be used to distinguish between the two subreddits, it would be preferable to use lemmatization rather than stemming on our dataset, since stemmed words are often more difficult to read and interpret.\n",
    "\n",
    "After removing punctuation, eliminating stop words, and lemmatizing relevant words we can convert our collection of tokens back into normal strings of text for further processing. All these natural language processing steps are performed in the subsequent two cells."
   ]
  },
  {
   "cell_type": "code",
   "execution_count": 301,
   "id": "0dc6ec06",
   "metadata": {},
   "outputs": [],
   "source": [
    "def get_relevant_words(doc):\n",
    "    '''\n",
    "    This function creates a string of lemmas in a SpaCy doc that are\n",
    "    not stop words or punctuation, in the order that they appeared.\n",
    "    \n",
    "    Parameters\n",
    "    ----------\n",
    "    doc: A SpaCy doc object\n",
    "    \n",
    "    Returns\n",
    "    -------\n",
    "    A string that contain non-stop, non-puntuation, lemmatized words\n",
    "    '''\n",
    "    return \" \".join([token.lemma_ for token in doc if (not token.is_stop) and (not token.is_punct)])"
   ]
  },
  {
   "cell_type": "code",
   "execution_count": 302,
   "id": "1b489e33",
   "metadata": {},
   "outputs": [],
   "source": [
    "# Convert training features into strings of relevant words\n",
    "X_train_lemmas = X_train_nlp.applymap(get_relevant_words).text"
   ]
  },
  {
   "cell_type": "markdown",
   "id": "30f4fa15",
   "metadata": {},
   "source": [
    "With this, we have simplified the text in each reddit post down into its most meaningful components and captured the information that our future classifier will train on.\n",
    "\n",
    "However, we still need to transform these words into a format that our models can use. For each word in our text data, we need to create a column that encodes the frequency of the word in each reddit post in our dataset. This numeric representation of each word's presence in our text data will allow our models to understand the contents of our reddit posts.\n",
    "\n",
    "When making this conversion, we have the option of presenting each word in our posts on their own (known as monograms) or in ordered pairs (known as bigrams). Bigrams can add additional information to our model since, occasionally, two words together can hold a different meaning than two words apart, such as with 'high' and 'score'. However, the inclusion of bigrams in our numeric dataset would introduce a crippling flaw into our future model.\n",
    "\n",
    "In order to prevent our model from overfitting to the small sample of posts we have available to us, it is important to make sure that we do not provide it with too many columns of data to train on. When numerically encoding our data as monograms, we end up with approximately 18,000 columns in our dataset. One for each unique word. This numeric representation already has nearly as many columns and our dataset has rows. Were we to numerically represent our data as monograms _and_ bigrams, our dataset would end up with far too high a ratio of features to entries and our model would end up overfitting severly enough to be completely unusable. In order to avoid this issue, we will be numerically representing our data as monograms only.\n",
    "\n",
    "The following two cells perform this conversion."
   ]
  },
  {
   "cell_type": "code",
   "execution_count": 303,
   "id": "6bdded34",
   "metadata": {},
   "outputs": [],
   "source": [
    "# Vectorize our reddit dataset and store it as a DataFrame\n",
    "tfidf = TfidfVectorizer()\n",
    "X_train_nlp_sparse = tfidf.fit_transform(X_train_lemmas)\n",
    "X_train_tfidf = pd.DataFrame(X_train_nlp_sparse.todense(), columns=tfidf.get_feature_names_out())"
   ]
  },
  {
   "cell_type": "code",
   "execution_count": 304,
   "id": "3ccea7d7",
   "metadata": {},
   "outputs": [],
   "source": [
    "# Repeating nlp for testing dataset\n",
    "X_test_nlp_sparse = tfidf.transform(X_test_nlp.applymap(get_relevant_words).text)\n",
    "X_test_tfidf = pd.DataFrame(X_test_nlp_sparse.todense(), columns=tfidf.get_feature_names_out())"
   ]
  },
  {
   "cell_type": "markdown",
   "id": "b8bd1642",
   "metadata": {},
   "source": [
    "### Removing Self-Referential Terms"
   ]
  },
  {
   "cell_type": "markdown",
   "id": "1a9c3b9e",
   "metadata": {},
   "source": [
    "Now that our data has been vectorized into a numeric format, it is nearly ready to be used for model training. However, before doing so, there is one last problem in the dataset that must be addressed.\n",
    "\n",
    "This problem can be seen by looking at the most common words in the dataset"
   ]
  },
  {
   "cell_type": "code",
   "execution_count": 305,
   "id": "747d2b13",
   "metadata": {},
   "outputs": [
    {
     "data": {
      "text/plain": [
       "game          738.110022\n",
       "xbox          700.817730\n",
       "play          410.030709\n",
       "ps4           397.994336\n",
       "account       349.712526\n",
       "buy           343.962339\n",
       "ps5           335.101927\n",
       "know          308.857253\n",
       "controller    293.082969\n",
       "try           285.206887\n",
       "dtype: float64"
      ]
     },
     "execution_count": 305,
     "metadata": {},
     "output_type": "execute_result"
    }
   ],
   "source": [
    "X_train_tfidf.sum().sort_values(ascending=False).head(10)"
   ]
  },
  {
   "cell_type": "markdown",
   "id": "7f1f234e",
   "metadata": {},
   "source": [
    "In this list of most common words, we can see that the posts in our dataset frequently reference the name of the subreddit itself. This self-referential behavior would theoretically be beneficial for our future classifier model, as it would be able to easily distinguish between each subreddit's posts based on whether or not it was explicitly named.\n",
    "\n",
    "However, the purpose of our model is not merely to distinguish between the two subreddits, but to identify the topics of discussion _other than consoles_ that distinguish these two communities. If these self-referential terms are left in the dataset, our final model will fail to identify any underlying topics of discussion in either subreddit and will instead simply learn to search for these terms.\n",
    "\n",
    "In order to force our model to learn to distinguish between these subreddits based solely on discussion topic, we should remove any words in our dataset that explicitly name the console the subreddit is about."
   ]
  },
  {
   "cell_type": "code",
   "execution_count": 306,
   "id": "ec1babce",
   "metadata": {},
   "outputs": [],
   "source": [
    "# Dropping self-referential words from the vectorized feature data\n",
    "self_referential_words = ['ps','ps1','ps2','ps3','ps4','ps5','playstation','xbox','360','series','xsx']\n",
    "X_train_tfidf = X_train_tfidf.drop(self_referential_words, axis=1)\n",
    "X_test_tfidf = X_test_tfidf.drop(self_referential_words, axis=1)"
   ]
  },
  {
   "cell_type": "markdown",
   "id": "3c400d2d",
   "metadata": {},
   "source": [
    "And with that, our datasets are now ready to be saved and used in the training of models that can differentiate between these two subreddits and identify the deeper differences between their communities."
   ]
  },
  {
   "cell_type": "code",
   "execution_count": 307,
   "id": "0c724fb9",
   "metadata": {},
   "outputs": [],
   "source": [
    "# Saving vectorized feature data and separated target data\n",
    "X_train_tfidf.to_csv('../datasets/X_train_tfidf.csv')\n",
    "X_test_tfidf.to_csv('../datasets/X_test_tfidf.csv')\n",
    "y_train.to_csv('../datasets/y_train.csv')\n",
    "y_test.to_csv('../datasets/y_test.csv')"
   ]
  }
 ],
 "metadata": {
  "kernelspec": {
   "display_name": "Python 3 (ipykernel)",
   "language": "python",
   "name": "python3"
  },
  "language_info": {
   "codemirror_mode": {
    "name": "ipython",
    "version": 3
   },
   "file_extension": ".py",
   "mimetype": "text/x-python",
   "name": "python",
   "nbconvert_exporter": "python",
   "pygments_lexer": "ipython3",
   "version": "3.9.13"
  }
 },
 "nbformat": 4,
 "nbformat_minor": 5
}
